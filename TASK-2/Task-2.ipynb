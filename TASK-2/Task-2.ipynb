{
 "cells": [
  {
   "cell_type": "code",
   "execution_count": 2,
   "id": "69ab3058",
   "metadata": {},
   "outputs": [
    {
     "name": "stdout",
     "output_type": "stream",
     "text": [
      "<class 'pandas.core.frame.DataFrame'>\n",
      "RangeIndex: 25 entries, 0 to 24\n",
      "Data columns (total 5 columns):\n",
      " #   Column            Non-Null Count  Dtype  \n",
      "---  ------            --------------  -----  \n",
      " 0   Order ID          25 non-null     object \n",
      " 1   Sales             25 non-null     float64\n",
      " 2   Profit            25 non-null     float64\n",
      " 3   Region            25 non-null     object \n",
      " 4   Product Category  25 non-null     object \n",
      "dtypes: float64(2), object(3)\n",
      "memory usage: 1.1+ KB\n",
      "\n",
      "First 5 rows of the dataset:\n"
     ]
    },
    {
     "data": {
      "text/html": [
       "<div>\n",
       "<style scoped>\n",
       "    .dataframe tbody tr th:only-of-type {\n",
       "        vertical-align: middle;\n",
       "    }\n",
       "\n",
       "    .dataframe tbody tr th {\n",
       "        vertical-align: top;\n",
       "    }\n",
       "\n",
       "    .dataframe thead th {\n",
       "        text-align: right;\n",
       "    }\n",
       "</style>\n",
       "<table border=\"1\" class=\"dataframe\">\n",
       "  <thead>\n",
       "    <tr style=\"text-align: right;\">\n",
       "      <th></th>\n",
       "      <th>Order ID</th>\n",
       "      <th>Sales</th>\n",
       "      <th>Profit</th>\n",
       "      <th>Region</th>\n",
       "      <th>Product Category</th>\n",
       "    </tr>\n",
       "  </thead>\n",
       "  <tbody>\n",
       "    <tr>\n",
       "      <th>0</th>\n",
       "      <td>GS10001</td>\n",
       "      <td>250.75</td>\n",
       "      <td>45.10</td>\n",
       "      <td>North America</td>\n",
       "      <td>Furniture</td>\n",
       "    </tr>\n",
       "    <tr>\n",
       "      <th>1</th>\n",
       "      <td>GS10002</td>\n",
       "      <td>120.50</td>\n",
       "      <td>30.00</td>\n",
       "      <td>Europe</td>\n",
       "      <td>Technology</td>\n",
       "    </tr>\n",
       "    <tr>\n",
       "      <th>2</th>\n",
       "      <td>GS10003</td>\n",
       "      <td>89.99</td>\n",
       "      <td>12.45</td>\n",
       "      <td>Asia</td>\n",
       "      <td>Office Supplies</td>\n",
       "    </tr>\n",
       "    <tr>\n",
       "      <th>3</th>\n",
       "      <td>GS10004</td>\n",
       "      <td>560.00</td>\n",
       "      <td>100.00</td>\n",
       "      <td>South America</td>\n",
       "      <td>Furniture</td>\n",
       "    </tr>\n",
       "    <tr>\n",
       "      <th>4</th>\n",
       "      <td>GS10005</td>\n",
       "      <td>340.20</td>\n",
       "      <td>70.40</td>\n",
       "      <td>Europe</td>\n",
       "      <td>Technology</td>\n",
       "    </tr>\n",
       "  </tbody>\n",
       "</table>\n",
       "</div>"
      ],
      "text/plain": [
       "  Order ID   Sales  Profit         Region Product Category\n",
       "0  GS10001  250.75   45.10  North America        Furniture\n",
       "1  GS10002  120.50   30.00         Europe       Technology\n",
       "2  GS10003   89.99   12.45           Asia  Office Supplies\n",
       "3  GS10004  560.00  100.00  South America        Furniture\n",
       "4  GS10005  340.20   70.40         Europe       Technology"
      ]
     },
     "metadata": {},
     "output_type": "display_data"
    },
    {
     "name": "stdout",
     "output_type": "stream",
     "text": [
      "\n",
      "Statistical Summary:\n"
     ]
    },
    {
     "data": {
      "text/html": [
       "<div>\n",
       "<style scoped>\n",
       "    .dataframe tbody tr th:only-of-type {\n",
       "        vertical-align: middle;\n",
       "    }\n",
       "\n",
       "    .dataframe tbody tr th {\n",
       "        vertical-align: top;\n",
       "    }\n",
       "\n",
       "    .dataframe thead th {\n",
       "        text-align: right;\n",
       "    }\n",
       "</style>\n",
       "<table border=\"1\" class=\"dataframe\">\n",
       "  <thead>\n",
       "    <tr style=\"text-align: right;\">\n",
       "      <th></th>\n",
       "      <th>Sales</th>\n",
       "      <th>Profit</th>\n",
       "    </tr>\n",
       "  </thead>\n",
       "  <tbody>\n",
       "    <tr>\n",
       "      <th>count</th>\n",
       "      <td>25.000000</td>\n",
       "      <td>25.000000</td>\n",
       "    </tr>\n",
       "    <tr>\n",
       "      <th>mean</th>\n",
       "      <td>263.869600</td>\n",
       "      <td>48.818000</td>\n",
       "    </tr>\n",
       "    <tr>\n",
       "      <th>std</th>\n",
       "      <td>138.736875</td>\n",
       "      <td>27.749155</td>\n",
       "    </tr>\n",
       "    <tr>\n",
       "      <th>min</th>\n",
       "      <td>75.500000</td>\n",
       "      <td>10.000000</td>\n",
       "    </tr>\n",
       "    <tr>\n",
       "      <th>25%</th>\n",
       "      <td>130.750000</td>\n",
       "      <td>25.000000</td>\n",
       "    </tr>\n",
       "    <tr>\n",
       "      <th>50%</th>\n",
       "      <td>260.300000</td>\n",
       "      <td>45.100000</td>\n",
       "    </tr>\n",
       "    <tr>\n",
       "      <th>75%</th>\n",
       "      <td>340.200000</td>\n",
       "      <td>70.000000</td>\n",
       "    </tr>\n",
       "    <tr>\n",
       "      <th>max</th>\n",
       "      <td>560.000000</td>\n",
       "      <td>100.000000</td>\n",
       "    </tr>\n",
       "  </tbody>\n",
       "</table>\n",
       "</div>"
      ],
      "text/plain": [
       "            Sales      Profit\n",
       "count   25.000000   25.000000\n",
       "mean   263.869600   48.818000\n",
       "std    138.736875   27.749155\n",
       "min     75.500000   10.000000\n",
       "25%    130.750000   25.000000\n",
       "50%    260.300000   45.100000\n",
       "75%    340.200000   70.000000\n",
       "max    560.000000  100.000000"
      ]
     },
     "metadata": {},
     "output_type": "display_data"
    },
    {
     "name": "stdout",
     "output_type": "stream",
     "text": [
      "\n",
      "Missing values before cleaning:\n",
      "\n"
     ]
    },
    {
     "data": {
      "text/plain": [
       "Order ID            0\n",
       "Sales               0\n",
       "Profit              0\n",
       "Region              0\n",
       "Product Category    0\n",
       "dtype: int64"
      ]
     },
     "metadata": {},
     "output_type": "display_data"
    },
    {
     "name": "stdout",
     "output_type": "stream",
     "text": [
      "Number of duplicate rows: 0\n",
      "\n",
      "Missing values after cleaning:\n",
      "\n"
     ]
    },
    {
     "data": {
      "text/plain": [
       "Order ID            0\n",
       "Sales               0\n",
       "Profit              0\n",
       "Region              0\n",
       "Product Category    0\n",
       "dtype: int64"
      ]
     },
     "metadata": {},
     "output_type": "display_data"
    },
    {
     "name": "stdout",
     "output_type": "stream",
     "text": [
      "Original shape:\n"
     ]
    },
    {
     "data": {
      "text/plain": [
       "(25, 7)"
      ]
     },
     "metadata": {},
     "output_type": "display_data"
    },
    {
     "name": "stdout",
     "output_type": "stream",
     "text": [
      "Cleaned shape:\n"
     ]
    },
    {
     "data": {
      "text/plain": [
       "(25, 7)"
      ]
     },
     "metadata": {},
     "output_type": "display_data"
    },
    {
     "name": "stdout",
     "output_type": "stream",
     "text": [
      "\n",
      "Statistical Summary:\n"
     ]
    },
    {
     "data": {
      "text/html": [
       "<div>\n",
       "<style scoped>\n",
       "    .dataframe tbody tr th:only-of-type {\n",
       "        vertical-align: middle;\n",
       "    }\n",
       "\n",
       "    .dataframe tbody tr th {\n",
       "        vertical-align: top;\n",
       "    }\n",
       "\n",
       "    .dataframe thead th {\n",
       "        text-align: right;\n",
       "    }\n",
       "</style>\n",
       "<table border=\"1\" class=\"dataframe\">\n",
       "  <thead>\n",
       "    <tr style=\"text-align: right;\">\n",
       "      <th></th>\n",
       "      <th>Sales</th>\n",
       "      <th>Profit</th>\n",
       "      <th>Sales_zscore</th>\n",
       "      <th>Profit_zscore</th>\n",
       "    </tr>\n",
       "  </thead>\n",
       "  <tbody>\n",
       "    <tr>\n",
       "      <th>count</th>\n",
       "      <td>25.000000</td>\n",
       "      <td>25.000000</td>\n",
       "      <td>2.500000e+01</td>\n",
       "      <td>2.500000e+01</td>\n",
       "    </tr>\n",
       "    <tr>\n",
       "      <th>mean</th>\n",
       "      <td>263.869600</td>\n",
       "      <td>48.818000</td>\n",
       "      <td>3.996803e-17</td>\n",
       "      <td>-2.020606e-16</td>\n",
       "    </tr>\n",
       "    <tr>\n",
       "      <th>std</th>\n",
       "      <td>138.736875</td>\n",
       "      <td>27.749155</td>\n",
       "      <td>1.020621e+00</td>\n",
       "      <td>1.020621e+00</td>\n",
       "    </tr>\n",
       "    <tr>\n",
       "      <th>min</th>\n",
       "      <td>75.500000</td>\n",
       "      <td>10.000000</td>\n",
       "      <td>-1.385745e+00</td>\n",
       "      <td>-1.427736e+00</td>\n",
       "    </tr>\n",
       "    <tr>\n",
       "      <th>25%</th>\n",
       "      <td>130.750000</td>\n",
       "      <td>25.000000</td>\n",
       "      <td>-9.792971e-01</td>\n",
       "      <td>-8.760319e-01</td>\n",
       "    </tr>\n",
       "    <tr>\n",
       "      <th>50%</th>\n",
       "      <td>260.300000</td>\n",
       "      <td>45.100000</td>\n",
       "      <td>-2.625984e-02</td>\n",
       "      <td>-1.367490e-01</td>\n",
       "    </tr>\n",
       "    <tr>\n",
       "      <th>75%</th>\n",
       "      <td>340.200000</td>\n",
       "      <td>70.000000</td>\n",
       "      <td>5.615262e-01</td>\n",
       "      <td>7.790792e-01</td>\n",
       "    </tr>\n",
       "    <tr>\n",
       "      <th>max</th>\n",
       "      <td>560.000000</td>\n",
       "      <td>100.000000</td>\n",
       "      <td>2.178489e+00</td>\n",
       "      <td>1.882487e+00</td>\n",
       "    </tr>\n",
       "  </tbody>\n",
       "</table>\n",
       "</div>"
      ],
      "text/plain": [
       "            Sales      Profit  Sales_zscore  Profit_zscore\n",
       "count   25.000000   25.000000  2.500000e+01   2.500000e+01\n",
       "mean   263.869600   48.818000  3.996803e-17  -2.020606e-16\n",
       "std    138.736875   27.749155  1.020621e+00   1.020621e+00\n",
       "min     75.500000   10.000000 -1.385745e+00  -1.427736e+00\n",
       "25%    130.750000   25.000000 -9.792971e-01  -8.760319e-01\n",
       "50%    260.300000   45.100000 -2.625984e-02  -1.367490e-01\n",
       "75%    340.200000   70.000000  5.615262e-01   7.790792e-01\n",
       "max    560.000000  100.000000  2.178489e+00   1.882487e+00"
      ]
     },
     "metadata": {},
     "output_type": "display_data"
    },
    {
     "data": {
      "image/png": "[encoded data removed]",
      "text/plain": [
       "<Figure size 800x600 with 2 Axes>"
      ]
     },
     "metadata": {},
     "output_type": "display_data"
    },
    {
     "data": {
      "image/png": "[encoded data removed]",
      "text/plain": [
       "<Figure size 800x500 with 1 Axes>"
      ]
     },
     "metadata": {},
     "output_type": "display_data"
    },
    {
     "data": {
      "image/png": "[encoded data removed]",
      "text/plain": [
       "<Figure size 1000x600 with 3 Axes>"
      ]
     },
     "metadata": {},
     "output_type": "display_data"
    }
   ],
   "source": [
    "import pandas as pd \n",
    "import numpy as np \n",
    "import matplotlib.pyplot as mlt\n",
    "import seaborn as sns\n",
    "\n",
    "from scipy.stats import zscore\n",
    "\n",
    "data = pd.read_csv(\"Global_Superstore.csv\")\n",
    "data.info()\n",
    "\n",
    "print(\"\\nFirst 5 rows of the dataset:\")\n",
    "display(data.head())\n",
    "\n",
    "print(\"\\nStatistical Summary:\")\n",
    "display(data.describe())\n",
    "\n",
    "print(\"\\nMissing values before cleaning:\\n\")\n",
    "display(data.isnull().sum())\n",
    "\n",
    "data['Sales'] = data['Sales'].fillna(data['Sales'].mean())\n",
    "data['Profit'] = data['Profit'].fillna(data['Profit'].mean())\n",
    "\n",
    "data['Profit'] = data['Profit'].fillna(data['Profit'].median())\n",
    "data['Sales'] = data['Sales'].fillna(data['Sales'].median())\n",
    "\n",
    "duplicates = data.duplicated().sum()\n",
    "print(f\"Number of duplicate rows: {duplicates}\")\n",
    "data = data.drop_duplicates()\n",
    "\n",
    "print(\"\\nMissing values after cleaning:\\n\")\n",
    "display(data.isnull().sum())\n",
    "\n",
    "#Detect and handle outliers (using Z-scores)\n",
    "data['Sales_zscore'] = zscore(data['Sales'])\n",
    "data['Profit_zscore'] = zscore(data['Profit'])\n",
    "dataset = data[(data['Sales_zscore'].abs() < 3) & (data['Profit_zscore'].abs() < 3)]\n",
    "\n",
    "print(\"Original shape:\")\n",
    "display(data.shape)\n",
    "print(\"Cleaned shape:\")\n",
    "display(dataset.shape)\n",
    "\n",
    "print(\"\\nStatistical Summary:\")\n",
    "display(data.describe())\n",
    "\n",
    "#Heatmap for correlations\n",
    "corr_data = data[['Sales','Profit']]\n",
    "mlt.figure(figsize = (8,6))\n",
    "sns.heatmap(corr_data.corr(), annot=True, cmap=\"coolwarm\")\n",
    "mlt.title(\"Correlation Matrix\")\n",
    "mlt.show()\n",
    "\n",
    "#Histograms to explore distributions of numerical data \n",
    "mlt.figure(figsize = (8,5))\n",
    "mlt.hist(data[['Sales','Profit']] ,bins = 10, color = ['Violet', 'Darkblue'],edgecolor = 'black')\n",
    "mlt.title(\"Distribution of numerical data\")\n",
    "mlt.xlabel('Value')\n",
    "mlt.ylabel('Frequency')\n",
    "mlt.show()\n",
    "\n",
    "#Boxplots to identify outliers in continuous variable \n",
    "mlt.figure(figsize = (10, 6))\n",
    "mlt.title(\"Boxplot of Sales & Profit\")\n",
    "mlt.subplot(1,2,1)\n",
    "sns.boxplot(y = data['Sales'])\n",
    "mlt.subplot(1,2,2)\n",
    "sns.boxplot(y = data['Profit'])\n",
    "mlt.show()"
   ]
  }
 ],
 "metadata": {
  "kernelspec": {
   "display_name": "base",
   "language": "python",
   "name": "python3"
  },
  "language_info": {
   "codemirror_mode": {
    "name": "ipython",
    "version": 3
   },
   "file_extension": ".py",
   "mimetype": "text/x-python",
   "name": "python",
   "nbconvert_exporter": "python",
   "pygments_lexer": "ipython3",
   "version": "3.13.5"
  }
 },
 "nbformat": 4,
 "nbformat_minor": 5
}
